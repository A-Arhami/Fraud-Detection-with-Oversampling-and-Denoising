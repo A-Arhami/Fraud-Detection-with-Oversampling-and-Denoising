{
  "nbformat": 4,
  "nbformat_minor": 0,
  "metadata": {
    "colab": {
      "provenance": [],
      "authorship_tag": "ABX9TyPvTPiuMZu1c8fMGZcmtkdM"
    },
    "kernelspec": {
      "name": "python3",
      "display_name": "Python 3"
    },
    "language_info": {
      "name": "python"
    }
  },
  "cells": [
    {
      "cell_type": "code",
      "execution_count": null,
      "metadata": {
        "colab": {
          "base_uri": "https://localhost:8080/"
        },
        "id": "_77W4kL02mrM",
        "outputId": "e736a8e7-517a-4889-c1cd-3a0709a63a93"
      },
      "outputs": [
        {
          "output_type": "stream",
          "name": "stdout",
          "text": [
            "Mounted at /content/drive\n"
          ]
        }
      ],
      "source": [
        "from google.colab import drive\n",
        "drive.mount('/content/drive')"
      ]
    },
    {
      "cell_type": "code",
      "source": [
        "%cd /content/drive/MyDrive/Colab Notebooks/Kaggle/\n"
      ],
      "metadata": {
        "colab": {
          "base_uri": "https://localhost:8080/"
        },
        "id": "LNBeNLOv4NUU",
        "outputId": "e5f75af0-1a86-4ff3-8004-114e27607e02"
      },
      "execution_count": null,
      "outputs": [
        {
          "output_type": "stream",
          "name": "stdout",
          "text": [
            "/content/drive/MyDrive/Colab Notebooks/Kaggle\n"
          ]
        }
      ]
    },
    {
      "cell_type": "code",
      "source": [
        "import os\n",
        "os.environ['KAGGLE_CONFIG_DIR'] = \"/content/drive/MyDrive/Colab Notebooks/Kaggle\""
      ],
      "metadata": {
        "id": "IS1POiIE3sl9"
      },
      "execution_count": null,
      "outputs": []
    },
    {
      "cell_type": "code",
      "source": [
        "!kaggle datasets download -d mlg-ulb/creditcardfraud"
      ],
      "metadata": {
        "colab": {
          "base_uri": "https://localhost:8080/"
        },
        "id": "PdIxqKuB4VVe",
        "outputId": "b0f2c497-4665-4b85-b67d-57716feb89c7"
      },
      "execution_count": null,
      "outputs": [
        {
          "output_type": "stream",
          "name": "stdout",
          "text": [
            "Downloading creditcardfraud.zip to /content/drive/MyDrive/Colab Notebooks/Kaggle\n",
            " 82% 54.0M/66.0M [00:00<00:00, 198MB/s]\n",
            "100% 66.0M/66.0M [00:00<00:00, 191MB/s]\n"
          ]
        }
      ]
    },
    {
      "cell_type": "code",
      "source": [
        "!unzip creditcardfraud.zip"
      ],
      "metadata": {
        "colab": {
          "base_uri": "https://localhost:8080/"
        },
        "id": "a8sLb9nG4hbH",
        "outputId": "b2878059-390a-4a5f-9def-95f0560a112f"
      },
      "execution_count": null,
      "outputs": [
        {
          "output_type": "stream",
          "name": "stdout",
          "text": [
            "Archive:  creditcardfraud.zip\n",
            "  inflating: creditcard.csv          \n"
          ]
        }
      ]
    },
    {
      "cell_type": "code",
      "source": [
        "import pandas as pd\n",
        "import numpy as np\n",
        "import seaborn as sns\n",
        "import matplotlib.pyplot as plt \n",
        "import matplotlib.ticker as ticker\n",
        "from sklearn.model_selection import train_test_split\n",
        "from sklearn.linear_model import LogisticRegression\n",
        "from sklearn import metrics\n",
        "from sklearn.preprocessing import StandardScaler\n",
        "import tensorflow as tf\n",
        "\n",
        "\n",
        "from keras.models import Model, load_model\n",
        "from keras.layers import Input, Dense, Activation"
      ],
      "metadata": {
        "id": "UvBAkUJg4p9x"
      },
      "execution_count": null,
      "outputs": []
    },
    {
      "cell_type": "code",
      "source": [
        "Raw=pd.read_csv('creditcard.csv')\n",
        "Raw"
      ],
      "metadata": {
        "colab": {
          "base_uri": "https://localhost:8080/",
          "height": 488
        },
        "id": "Az-vhv975Lh_",
        "outputId": "c794a271-ddde-42c7-dab4-6f6c8520dd59"
      },
      "execution_count": null,
      "outputs": [
        {
          "output_type": "execute_result",
          "data": {
            "text/plain": [
              "            Time         V1         V2        V3        V4        V5  \\\n",
              "0            0.0  -1.359807  -0.072781  2.536347  1.378155 -0.338321   \n",
              "1            0.0   1.191857   0.266151  0.166480  0.448154  0.060018   \n",
              "2            1.0  -1.358354  -1.340163  1.773209  0.379780 -0.503198   \n",
              "3            1.0  -0.966272  -0.185226  1.792993 -0.863291 -0.010309   \n",
              "4            2.0  -1.158233   0.877737  1.548718  0.403034 -0.407193   \n",
              "...          ...        ...        ...       ...       ...       ...   \n",
              "284802  172786.0 -11.881118  10.071785 -9.834783 -2.066656 -5.364473   \n",
              "284803  172787.0  -0.732789  -0.055080  2.035030 -0.738589  0.868229   \n",
              "284804  172788.0   1.919565  -0.301254 -3.249640 -0.557828  2.630515   \n",
              "284805  172788.0  -0.240440   0.530483  0.702510  0.689799 -0.377961   \n",
              "284806  172792.0  -0.533413  -0.189733  0.703337 -0.506271 -0.012546   \n",
              "\n",
              "              V6        V7        V8        V9  ...       V21       V22  \\\n",
              "0       0.462388  0.239599  0.098698  0.363787  ... -0.018307  0.277838   \n",
              "1      -0.082361 -0.078803  0.085102 -0.255425  ... -0.225775 -0.638672   \n",
              "2       1.800499  0.791461  0.247676 -1.514654  ...  0.247998  0.771679   \n",
              "3       1.247203  0.237609  0.377436 -1.387024  ... -0.108300  0.005274   \n",
              "4       0.095921  0.592941 -0.270533  0.817739  ... -0.009431  0.798278   \n",
              "...          ...       ...       ...       ...  ...       ...       ...   \n",
              "284802 -2.606837 -4.918215  7.305334  1.914428  ...  0.213454  0.111864   \n",
              "284803  1.058415  0.024330  0.294869  0.584800  ...  0.214205  0.924384   \n",
              "284804  3.031260 -0.296827  0.708417  0.432454  ...  0.232045  0.578229   \n",
              "284805  0.623708 -0.686180  0.679145  0.392087  ...  0.265245  0.800049   \n",
              "284806 -0.649617  1.577006 -0.414650  0.486180  ...  0.261057  0.643078   \n",
              "\n",
              "             V23       V24       V25       V26       V27       V28  Amount  \\\n",
              "0      -0.110474  0.066928  0.128539 -0.189115  0.133558 -0.021053  149.62   \n",
              "1       0.101288 -0.339846  0.167170  0.125895 -0.008983  0.014724    2.69   \n",
              "2       0.909412 -0.689281 -0.327642 -0.139097 -0.055353 -0.059752  378.66   \n",
              "3      -0.190321 -1.175575  0.647376 -0.221929  0.062723  0.061458  123.50   \n",
              "4      -0.137458  0.141267 -0.206010  0.502292  0.219422  0.215153   69.99   \n",
              "...          ...       ...       ...       ...       ...       ...     ...   \n",
              "284802  1.014480 -0.509348  1.436807  0.250034  0.943651  0.823731    0.77   \n",
              "284803  0.012463 -1.016226 -0.606624 -0.395255  0.068472 -0.053527   24.79   \n",
              "284804 -0.037501  0.640134  0.265745 -0.087371  0.004455 -0.026561   67.88   \n",
              "284805 -0.163298  0.123205 -0.569159  0.546668  0.108821  0.104533   10.00   \n",
              "284806  0.376777  0.008797 -0.473649 -0.818267 -0.002415  0.013649  217.00   \n",
              "\n",
              "        Class  \n",
              "0           0  \n",
              "1           0  \n",
              "2           0  \n",
              "3           0  \n",
              "4           0  \n",
              "...       ...  \n",
              "284802      0  \n",
              "284803      0  \n",
              "284804      0  \n",
              "284805      0  \n",
              "284806      0  \n",
              "\n",
              "[284807 rows x 31 columns]"
            ],
            "text/html": [
              "\n",
              "  <div id=\"df-74e1bb3c-48fa-4ff2-802a-c2d1d8969135\">\n",
              "    <div class=\"colab-df-container\">\n",
              "      <div>\n",
              "<style scoped>\n",
              "    .dataframe tbody tr th:only-of-type {\n",
              "        vertical-align: middle;\n",
              "    }\n",
              "\n",
              "    .dataframe tbody tr th {\n",
              "        vertical-align: top;\n",
              "    }\n",
              "\n",
              "    .dataframe thead th {\n",
              "        text-align: right;\n",
              "    }\n",
              "</style>\n",
              "<table border=\"1\" class=\"dataframe\">\n",
              "  <thead>\n",
              "    <tr style=\"text-align: right;\">\n",
              "      <th></th>\n",
              "      <th>Time</th>\n",
              "      <th>V1</th>\n",
              "      <th>V2</th>\n",
              "      <th>V3</th>\n",
              "      <th>V4</th>\n",
              "      <th>V5</th>\n",
              "      <th>V6</th>\n",
              "      <th>V7</th>\n",
              "      <th>V8</th>\n",
              "      <th>V9</th>\n",
              "      <th>...</th>\n",
              "      <th>V21</th>\n",
              "      <th>V22</th>\n",
              "      <th>V23</th>\n",
              "      <th>V24</th>\n",
              "      <th>V25</th>\n",
              "      <th>V26</th>\n",
              "      <th>V27</th>\n",
              "      <th>V28</th>\n",
              "      <th>Amount</th>\n",
              "      <th>Class</th>\n",
              "    </tr>\n",
              "  </thead>\n",
              "  <tbody>\n",
              "    <tr>\n",
              "      <th>0</th>\n",
              "      <td>0.0</td>\n",
              "      <td>-1.359807</td>\n",
              "      <td>-0.072781</td>\n",
              "      <td>2.536347</td>\n",
              "      <td>1.378155</td>\n",
              "      <td>-0.338321</td>\n",
              "      <td>0.462388</td>\n",
              "      <td>0.239599</td>\n",
              "      <td>0.098698</td>\n",
              "      <td>0.363787</td>\n",
              "      <td>...</td>\n",
              "      <td>-0.018307</td>\n",
              "      <td>0.277838</td>\n",
              "      <td>-0.110474</td>\n",
              "      <td>0.066928</td>\n",
              "      <td>0.128539</td>\n",
              "      <td>-0.189115</td>\n",
              "      <td>0.133558</td>\n",
              "      <td>-0.021053</td>\n",
              "      <td>149.62</td>\n",
              "      <td>0</td>\n",
              "    </tr>\n",
              "    <tr>\n",
              "      <th>1</th>\n",
              "      <td>0.0</td>\n",
              "      <td>1.191857</td>\n",
              "      <td>0.266151</td>\n",
              "      <td>0.166480</td>\n",
              "      <td>0.448154</td>\n",
              "      <td>0.060018</td>\n",
              "      <td>-0.082361</td>\n",
              "      <td>-0.078803</td>\n",
              "      <td>0.085102</td>\n",
              "      <td>-0.255425</td>\n",
              "      <td>...</td>\n",
              "      <td>-0.225775</td>\n",
              "      <td>-0.638672</td>\n",
              "      <td>0.101288</td>\n",
              "      <td>-0.339846</td>\n",
              "      <td>0.167170</td>\n",
              "      <td>0.125895</td>\n",
              "      <td>-0.008983</td>\n",
              "      <td>0.014724</td>\n",
              "      <td>2.69</td>\n",
              "      <td>0</td>\n",
              "    </tr>\n",
              "    <tr>\n",
              "      <th>2</th>\n",
              "      <td>1.0</td>\n",
              "      <td>-1.358354</td>\n",
              "      <td>-1.340163</td>\n",
              "      <td>1.773209</td>\n",
              "      <td>0.379780</td>\n",
              "      <td>-0.503198</td>\n",
              "      <td>1.800499</td>\n",
              "      <td>0.791461</td>\n",
              "      <td>0.247676</td>\n",
              "      <td>-1.514654</td>\n",
              "      <td>...</td>\n",
              "      <td>0.247998</td>\n",
              "      <td>0.771679</td>\n",
              "      <td>0.909412</td>\n",
              "      <td>-0.689281</td>\n",
              "      <td>-0.327642</td>\n",
              "      <td>-0.139097</td>\n",
              "      <td>-0.055353</td>\n",
              "      <td>-0.059752</td>\n",
              "      <td>378.66</td>\n",
              "      <td>0</td>\n",
              "    </tr>\n",
              "    <tr>\n",
              "      <th>3</th>\n",
              "      <td>1.0</td>\n",
              "      <td>-0.966272</td>\n",
              "      <td>-0.185226</td>\n",
              "      <td>1.792993</td>\n",
              "      <td>-0.863291</td>\n",
              "      <td>-0.010309</td>\n",
              "      <td>1.247203</td>\n",
              "      <td>0.237609</td>\n",
              "      <td>0.377436</td>\n",
              "      <td>-1.387024</td>\n",
              "      <td>...</td>\n",
              "      <td>-0.108300</td>\n",
              "      <td>0.005274</td>\n",
              "      <td>-0.190321</td>\n",
              "      <td>-1.175575</td>\n",
              "      <td>0.647376</td>\n",
              "      <td>-0.221929</td>\n",
              "      <td>0.062723</td>\n",
              "      <td>0.061458</td>\n",
              "      <td>123.50</td>\n",
              "      <td>0</td>\n",
              "    </tr>\n",
              "    <tr>\n",
              "      <th>4</th>\n",
              "      <td>2.0</td>\n",
              "      <td>-1.158233</td>\n",
              "      <td>0.877737</td>\n",
              "      <td>1.548718</td>\n",
              "      <td>0.403034</td>\n",
              "      <td>-0.407193</td>\n",
              "      <td>0.095921</td>\n",
              "      <td>0.592941</td>\n",
              "      <td>-0.270533</td>\n",
              "      <td>0.817739</td>\n",
              "      <td>...</td>\n",
              "      <td>-0.009431</td>\n",
              "      <td>0.798278</td>\n",
              "      <td>-0.137458</td>\n",
              "      <td>0.141267</td>\n",
              "      <td>-0.206010</td>\n",
              "      <td>0.502292</td>\n",
              "      <td>0.219422</td>\n",
              "      <td>0.215153</td>\n",
              "      <td>69.99</td>\n",
              "      <td>0</td>\n",
              "    </tr>\n",
              "    <tr>\n",
              "      <th>...</th>\n",
              "      <td>...</td>\n",
              "      <td>...</td>\n",
              "      <td>...</td>\n",
              "      <td>...</td>\n",
              "      <td>...</td>\n",
              "      <td>...</td>\n",
              "      <td>...</td>\n",
              "      <td>...</td>\n",
              "      <td>...</td>\n",
              "      <td>...</td>\n",
              "      <td>...</td>\n",
              "      <td>...</td>\n",
              "      <td>...</td>\n",
              "      <td>...</td>\n",
              "      <td>...</td>\n",
              "      <td>...</td>\n",
              "      <td>...</td>\n",
              "      <td>...</td>\n",
              "      <td>...</td>\n",
              "      <td>...</td>\n",
              "      <td>...</td>\n",
              "    </tr>\n",
              "    <tr>\n",
              "      <th>284802</th>\n",
              "      <td>172786.0</td>\n",
              "      <td>-11.881118</td>\n",
              "      <td>10.071785</td>\n",
              "      <td>-9.834783</td>\n",
              "      <td>-2.066656</td>\n",
              "      <td>-5.364473</td>\n",
              "      <td>-2.606837</td>\n",
              "      <td>-4.918215</td>\n",
              "      <td>7.305334</td>\n",
              "      <td>1.914428</td>\n",
              "      <td>...</td>\n",
              "      <td>0.213454</td>\n",
              "      <td>0.111864</td>\n",
              "      <td>1.014480</td>\n",
              "      <td>-0.509348</td>\n",
              "      <td>1.436807</td>\n",
              "      <td>0.250034</td>\n",
              "      <td>0.943651</td>\n",
              "      <td>0.823731</td>\n",
              "      <td>0.77</td>\n",
              "      <td>0</td>\n",
              "    </tr>\n",
              "    <tr>\n",
              "      <th>284803</th>\n",
              "      <td>172787.0</td>\n",
              "      <td>-0.732789</td>\n",
              "      <td>-0.055080</td>\n",
              "      <td>2.035030</td>\n",
              "      <td>-0.738589</td>\n",
              "      <td>0.868229</td>\n",
              "      <td>1.058415</td>\n",
              "      <td>0.024330</td>\n",
              "      <td>0.294869</td>\n",
              "      <td>0.584800</td>\n",
              "      <td>...</td>\n",
              "      <td>0.214205</td>\n",
              "      <td>0.924384</td>\n",
              "      <td>0.012463</td>\n",
              "      <td>-1.016226</td>\n",
              "      <td>-0.606624</td>\n",
              "      <td>-0.395255</td>\n",
              "      <td>0.068472</td>\n",
              "      <td>-0.053527</td>\n",
              "      <td>24.79</td>\n",
              "      <td>0</td>\n",
              "    </tr>\n",
              "    <tr>\n",
              "      <th>284804</th>\n",
              "      <td>172788.0</td>\n",
              "      <td>1.919565</td>\n",
              "      <td>-0.301254</td>\n",
              "      <td>-3.249640</td>\n",
              "      <td>-0.557828</td>\n",
              "      <td>2.630515</td>\n",
              "      <td>3.031260</td>\n",
              "      <td>-0.296827</td>\n",
              "      <td>0.708417</td>\n",
              "      <td>0.432454</td>\n",
              "      <td>...</td>\n",
              "      <td>0.232045</td>\n",
              "      <td>0.578229</td>\n",
              "      <td>-0.037501</td>\n",
              "      <td>0.640134</td>\n",
              "      <td>0.265745</td>\n",
              "      <td>-0.087371</td>\n",
              "      <td>0.004455</td>\n",
              "      <td>-0.026561</td>\n",
              "      <td>67.88</td>\n",
              "      <td>0</td>\n",
              "    </tr>\n",
              "    <tr>\n",
              "      <th>284805</th>\n",
              "      <td>172788.0</td>\n",
              "      <td>-0.240440</td>\n",
              "      <td>0.530483</td>\n",
              "      <td>0.702510</td>\n",
              "      <td>0.689799</td>\n",
              "      <td>-0.377961</td>\n",
              "      <td>0.623708</td>\n",
              "      <td>-0.686180</td>\n",
              "      <td>0.679145</td>\n",
              "      <td>0.392087</td>\n",
              "      <td>...</td>\n",
              "      <td>0.265245</td>\n",
              "      <td>0.800049</td>\n",
              "      <td>-0.163298</td>\n",
              "      <td>0.123205</td>\n",
              "      <td>-0.569159</td>\n",
              "      <td>0.546668</td>\n",
              "      <td>0.108821</td>\n",
              "      <td>0.104533</td>\n",
              "      <td>10.00</td>\n",
              "      <td>0</td>\n",
              "    </tr>\n",
              "    <tr>\n",
              "      <th>284806</th>\n",
              "      <td>172792.0</td>\n",
              "      <td>-0.533413</td>\n",
              "      <td>-0.189733</td>\n",
              "      <td>0.703337</td>\n",
              "      <td>-0.506271</td>\n",
              "      <td>-0.012546</td>\n",
              "      <td>-0.649617</td>\n",
              "      <td>1.577006</td>\n",
              "      <td>-0.414650</td>\n",
              "      <td>0.486180</td>\n",
              "      <td>...</td>\n",
              "      <td>0.261057</td>\n",
              "      <td>0.643078</td>\n",
              "      <td>0.376777</td>\n",
              "      <td>0.008797</td>\n",
              "      <td>-0.473649</td>\n",
              "      <td>-0.818267</td>\n",
              "      <td>-0.002415</td>\n",
              "      <td>0.013649</td>\n",
              "      <td>217.00</td>\n",
              "      <td>0</td>\n",
              "    </tr>\n",
              "  </tbody>\n",
              "</table>\n",
              "<p>284807 rows × 31 columns</p>\n",
              "</div>\n",
              "      <button class=\"colab-df-convert\" onclick=\"convertToInteractive('df-74e1bb3c-48fa-4ff2-802a-c2d1d8969135')\"\n",
              "              title=\"Convert this dataframe to an interactive table.\"\n",
              "              style=\"display:none;\">\n",
              "        \n",
              "  <svg xmlns=\"http://www.w3.org/2000/svg\" height=\"24px\"viewBox=\"0 0 24 24\"\n",
              "       width=\"24px\">\n",
              "    <path d=\"M0 0h24v24H0V0z\" fill=\"none\"/>\n",
              "    <path d=\"M18.56 5.44l.94 2.06.94-2.06 2.06-.94-2.06-.94-.94-2.06-.94 2.06-2.06.94zm-11 1L8.5 8.5l.94-2.06 2.06-.94-2.06-.94L8.5 2.5l-.94 2.06-2.06.94zm10 10l.94 2.06.94-2.06 2.06-.94-2.06-.94-.94-2.06-.94 2.06-2.06.94z\"/><path d=\"M17.41 7.96l-1.37-1.37c-.4-.4-.92-.59-1.43-.59-.52 0-1.04.2-1.43.59L10.3 9.45l-7.72 7.72c-.78.78-.78 2.05 0 2.83L4 21.41c.39.39.9.59 1.41.59.51 0 1.02-.2 1.41-.59l7.78-7.78 2.81-2.81c.8-.78.8-2.07 0-2.86zM5.41 20L4 18.59l7.72-7.72 1.47 1.35L5.41 20z\"/>\n",
              "  </svg>\n",
              "      </button>\n",
              "      \n",
              "  <style>\n",
              "    .colab-df-container {\n",
              "      display:flex;\n",
              "      flex-wrap:wrap;\n",
              "      gap: 12px;\n",
              "    }\n",
              "\n",
              "    .colab-df-convert {\n",
              "      background-color: #E8F0FE;\n",
              "      border: none;\n",
              "      border-radius: 50%;\n",
              "      cursor: pointer;\n",
              "      display: none;\n",
              "      fill: #1967D2;\n",
              "      height: 32px;\n",
              "      padding: 0 0 0 0;\n",
              "      width: 32px;\n",
              "    }\n",
              "\n",
              "    .colab-df-convert:hover {\n",
              "      background-color: #E2EBFA;\n",
              "      box-shadow: 0px 1px 2px rgba(60, 64, 67, 0.3), 0px 1px 3px 1px rgba(60, 64, 67, 0.15);\n",
              "      fill: #174EA6;\n",
              "    }\n",
              "\n",
              "    [theme=dark] .colab-df-convert {\n",
              "      background-color: #3B4455;\n",
              "      fill: #D2E3FC;\n",
              "    }\n",
              "\n",
              "    [theme=dark] .colab-df-convert:hover {\n",
              "      background-color: #434B5C;\n",
              "      box-shadow: 0px 1px 3px 1px rgba(0, 0, 0, 0.15);\n",
              "      filter: drop-shadow(0px 1px 2px rgba(0, 0, 0, 0.3));\n",
              "      fill: #FFFFFF;\n",
              "    }\n",
              "  </style>\n",
              "\n",
              "      <script>\n",
              "        const buttonEl =\n",
              "          document.querySelector('#df-74e1bb3c-48fa-4ff2-802a-c2d1d8969135 button.colab-df-convert');\n",
              "        buttonEl.style.display =\n",
              "          google.colab.kernel.accessAllowed ? 'block' : 'none';\n",
              "\n",
              "        async function convertToInteractive(key) {\n",
              "          const element = document.querySelector('#df-74e1bb3c-48fa-4ff2-802a-c2d1d8969135');\n",
              "          const dataTable =\n",
              "            await google.colab.kernel.invokeFunction('convertToInteractive',\n",
              "                                                     [key], {});\n",
              "          if (!dataTable) return;\n",
              "\n",
              "          const docLinkHtml = 'Like what you see? Visit the ' +\n",
              "            '<a target=\"_blank\" href=https://colab.research.google.com/notebooks/data_table.ipynb>data table notebook</a>'\n",
              "            + ' to learn more about interactive tables.';\n",
              "          element.innerHTML = '';\n",
              "          dataTable['output_type'] = 'display_data';\n",
              "          await google.colab.output.renderOutput(dataTable, element);\n",
              "          const docLink = document.createElement('div');\n",
              "          docLink.innerHTML = docLinkHtml;\n",
              "          element.appendChild(docLink);\n",
              "        }\n",
              "      </script>\n",
              "    </div>\n",
              "  </div>\n",
              "  "
            ]
          },
          "metadata": {},
          "execution_count": 5
        }
      ]
    },
    {
      "cell_type": "code",
      "source": [
        "sns.countplot(x='Class',data=Raw)"
      ],
      "metadata": {
        "colab": {
          "base_uri": "https://localhost:8080/",
          "height": 296
        },
        "id": "QQ7slj3h5ROI",
        "outputId": "40788a34-463a-460b-b9a3-11f97757a194"
      },
      "execution_count": null,
      "outputs": [
        {
          "output_type": "execute_result",
          "data": {
            "text/plain": [
              "<matplotlib.axes._subplots.AxesSubplot at 0x7fb9167b9190>"
            ]
          },
          "metadata": {},
          "execution_count": 9
        },
        {
          "output_type": "display_data",
          "data": {
            "text/plain": [
              "<Figure size 432x288 with 1 Axes>"
            ],
            "image/png": "[encoded data removed]"
          },
          "metadata": {
            "needs_background": "light"
          }
        }
      ]
    },
    {
      "cell_type": "code",
      "source": [
        "#Data Preprocessing\n",
        "data = Raw.drop(columns=[ 'Time'])\n",
        "data['Amount'] = StandardScaler().fit_transform(data['Amount'].values.reshape(-1, 1))\n",
        "X=data.drop(columns=['Class'])\n",
        "Y=data[\"Class\"]\n",
        "print (\"X: \",X.shape,\" Y: \",Y.shape)\n",
        "Xtr, Xte, Ytr, Yte = train_test_split(X , Y, test_size=0.2, random_state=0)\n",
        "print (\"Train Size: \",len(Ytr),\" Test Size: \", len(Yte))"
      ],
      "metadata": {
        "colab": {
          "base_uri": "https://localhost:8080/"
        },
        "id": "fb8-L8CV5cqo",
        "outputId": "7cdd3c16-aa53-4614-ee2b-aa76c8360a15"
      },
      "execution_count": null,
      "outputs": [
        {
          "output_type": "stream",
          "name": "stdout",
          "text": [
            "X:  (284807, 29)  Y:  (284807,)\n",
            "Train Size:  227845  Test Size:  56962\n"
          ]
        }
      ]
    },
    {
      "cell_type": "markdown",
      "source": [
        "**Oversampling**"
      ],
      "metadata": {
        "id": "Jv_yssuR-8Ge"
      }
    },
    {
      "cell_type": "code",
      "source": [
        "from imblearn.over_sampling import SMOTE\n",
        "\n",
        "sm = SMOTE(random_state=42)\n",
        "Xtr_os, Ytr_os = sm.fit_resample(Xtr, Ytr)"
      ],
      "metadata": {
        "id": "ktanh1176MG4"
      },
      "execution_count": null,
      "outputs": []
    },
    {
      "cell_type": "code",
      "source": [
        "from collections import Counter\n",
        "print('Resampled dataset shape', Counter(Ytr_os))"
      ],
      "metadata": {
        "colab": {
          "base_uri": "https://localhost:8080/"
        },
        "id": "mCImULu98-SJ",
        "outputId": "380a5d80-5d73-4ffa-a532-d841276db108"
      },
      "execution_count": null,
      "outputs": [
        {
          "output_type": "stream",
          "name": "stdout",
          "text": [
            "Resampled dataset shape Counter({0: 227454, 1: 227454})\n"
          ]
        }
      ]
    },
    {
      "cell_type": "code",
      "source": [
        "sns.countplot(x=\"Class\",data=pd.DataFrame(Ytr_os))"
      ],
      "metadata": {
        "colab": {
          "base_uri": "https://localhost:8080/",
          "height": 296
        },
        "id": "M9oQt9pL9EW_",
        "outputId": "5b346440-83c0-4dfa-a0b2-daa97b777d82"
      },
      "execution_count": null,
      "outputs": [
        {
          "output_type": "execute_result",
          "data": {
            "text/plain": [
              "<matplotlib.axes._subplots.AxesSubplot at 0x7fb9103145b0>"
            ]
          },
          "metadata": {},
          "execution_count": 31
        },
        {
          "output_type": "display_data",
          "data": {
            "text/plain": [
              "<Figure size 432x288 with 1 Axes>"
            ],
            "image/png": "[encoded data removed]"
          },
          "metadata": {
            "needs_background": "light"
          }
        }
      ]
    },
    {
      "cell_type": "code",
      "source": [
        "tf.keras.backend.clear_session()\n",
        "\n",
        "#Autoencoder model\n",
        "input_layer = Input(shape=(29, ))\n",
        "encode1 = Dense(22)(input_layer)\n",
        "encode2 = Dense(15)(encode1)\n",
        "encode3 = Dense(10)(encode2)\n",
        "decode1 = Dense(15)(encode3)\n",
        "decode2 = Dense(22)(decode1)\n",
        "decoded = Dense(29)(decode2)\n",
        "DAE = Model(input_layer,decoded)\n",
        "DAE.compile(optimizer='adam',loss='mean_squared_error')\n",
        "DAE.summary()"
      ],
      "metadata": {
        "colab": {
          "base_uri": "https://localhost:8080/"
        },
        "id": "cIyXOmvH9L9Z",
        "outputId": "bd37ca65-7776-4a3f-8370-d093d5f0ffef"
      },
      "execution_count": null,
      "outputs": [
        {
          "output_type": "stream",
          "name": "stdout",
          "text": [
            "Model: \"model\"\n",
            "_________________________________________________________________\n",
            " Layer (type)                Output Shape              Param #   \n",
            "=================================================================\n",
            " input_1 (InputLayer)        [(None, 29)]              0         \n",
            "                                                                 \n",
            " dense (Dense)               (None, 22)                660       \n",
            "                                                                 \n",
            " dense_1 (Dense)             (None, 15)                345       \n",
            "                                                                 \n",
            " dense_2 (Dense)             (None, 10)                160       \n",
            "                                                                 \n",
            " dense_3 (Dense)             (None, 15)                165       \n",
            "                                                                 \n",
            " dense_4 (Dense)             (None, 22)                352       \n",
            "                                                                 \n",
            " dense_5 (Dense)             (None, 29)                667       \n",
            "                                                                 \n",
            "=================================================================\n",
            "Total params: 2,349\n",
            "Trainable params: 2,349\n",
            "Non-trainable params: 0\n",
            "_________________________________________________________________\n"
          ]
        }
      ]
    },
    {
      "cell_type": "code",
      "source": [
        "#Add noise to train data\n",
        "\n",
        "def gaussian_noise(x,mu,std):\n",
        "    noise = np.random.normal(mu, std, size = x.shape)\n",
        "    x_noisy = x + noise\n",
        "    return x_noisy \n",
        "\n",
        "mu=0.0\n",
        "std = 0.05\n",
        "Xtr_os_n=gaussian_noise(Xtr_os,mu,std)\n",
        "Xtr_os_n.shape"
      ],
      "metadata": {
        "colab": {
          "base_uri": "https://localhost:8080/"
        },
        "id": "XRymc6M5JsKv",
        "outputId": "f9e6c87f-dc45-4d01-b36b-b51acde289dc"
      },
      "execution_count": null,
      "outputs": [
        {
          "output_type": "execute_result",
          "data": {
            "text/plain": [
              "(454908, 29)"
            ]
          },
          "metadata": {},
          "execution_count": 14
        }
      ]
    },
    {
      "cell_type": "code",
      "source": [
        "xtr, xval, ytr, yval = train_test_split(Xtr_os_n , Xtr_os, test_size=0.1, random_state=0)\n",
        "DAE.fit(xtr, ytr, epochs = 30, batch_size=128, validation_data=(xval,yval))"
      ],
      "metadata": {
        "id": "mvZaPzOo-c_Z",
        "colab": {
          "base_uri": "https://localhost:8080/"
        },
        "outputId": "f2cc9beb-b0c4-42e9-89e6-0966d33de5cb"
      },
      "execution_count": null,
      "outputs": [
        {
          "output_type": "stream",
          "name": "stdout",
          "text": [
            "Epoch 1/30\n",
            "3199/3199 [==============================] - 9s 3ms/step - loss: 0.8393 - val_loss: 0.4294\n",
            "Epoch 2/30\n",
            "3199/3199 [==============================] - 8s 2ms/step - loss: 0.4079 - val_loss: 0.4144\n",
            "Epoch 3/30\n",
            "3199/3199 [==============================] - 10s 3ms/step - loss: 0.4014 - val_loss: 0.4094\n",
            "Epoch 4/30\n",
            "3199/3199 [==============================] - 7s 2ms/step - loss: 0.3991 - val_loss: 0.4078\n",
            "Epoch 5/30\n",
            "3199/3199 [==============================] - 7s 2ms/step - loss: 0.3988 - val_loss: 0.4100\n",
            "Epoch 6/30\n",
            "3199/3199 [==============================] - 7s 2ms/step - loss: 0.3986 - val_loss: 0.4083\n",
            "Epoch 7/30\n",
            "3199/3199 [==============================] - 7s 2ms/step - loss: 0.3985 - val_loss: 0.4100\n",
            "Epoch 8/30\n",
            "3199/3199 [==============================] - 7s 2ms/step - loss: 0.3983 - val_loss: 0.4081\n",
            "Epoch 9/30\n",
            "3199/3199 [==============================] - 8s 3ms/step - loss: 0.3983 - val_loss: 0.4077\n",
            "Epoch 10/30\n",
            "3199/3199 [==============================] - 7s 2ms/step - loss: 0.3983 - val_loss: 0.4083\n",
            "Epoch 11/30\n",
            "3199/3199 [==============================] - 9s 3ms/step - loss: 0.3982 - val_loss: 0.4076\n",
            "Epoch 12/30\n",
            "3199/3199 [==============================] - 7s 2ms/step - loss: 0.3980 - val_loss: 0.4081\n",
            "Epoch 13/30\n",
            "3199/3199 [==============================] - 7s 2ms/step - loss: 0.3980 - val_loss: 0.4083\n",
            "Epoch 14/30\n",
            "3199/3199 [==============================] - 7s 2ms/step - loss: 0.3980 - val_loss: 0.4082\n",
            "Epoch 15/30\n",
            "3199/3199 [==============================] - 8s 2ms/step - loss: 0.3978 - val_loss: 0.4079\n",
            "Epoch 16/30\n",
            "3199/3199 [==============================] - 7s 2ms/step - loss: 0.3979 - val_loss: 0.4076\n",
            "Epoch 17/30\n",
            "3199/3199 [==============================] - 9s 3ms/step - loss: 0.3978 - val_loss: 0.4094\n",
            "Epoch 18/30\n",
            "3199/3199 [==============================] - 7s 2ms/step - loss: 0.3978 - val_loss: 0.4082\n",
            "Epoch 19/30\n",
            "3199/3199 [==============================] - 8s 2ms/step - loss: 0.3978 - val_loss: 0.4081\n",
            "Epoch 20/30\n",
            "3199/3199 [==============================] - 7s 2ms/step - loss: 0.3977 - val_loss: 0.4091\n",
            "Epoch 21/30\n",
            "3199/3199 [==============================] - 8s 2ms/step - loss: 0.3977 - val_loss: 0.4082\n",
            "Epoch 22/30\n",
            "3199/3199 [==============================] - 8s 2ms/step - loss: 0.3977 - val_loss: 0.4076\n",
            "Epoch 23/30\n",
            "3199/3199 [==============================] - 7s 2ms/step - loss: 0.3977 - val_loss: 0.4078\n",
            "Epoch 24/30\n",
            "3199/3199 [==============================] - 7s 2ms/step - loss: 0.3976 - val_loss: 0.4076\n",
            "Epoch 25/30\n",
            "3199/3199 [==============================] - 7s 2ms/step - loss: 0.3976 - val_loss: 0.4088\n",
            "Epoch 26/30\n",
            "3199/3199 [==============================] - 7s 2ms/step - loss: 0.3977 - val_loss: 0.4079\n",
            "Epoch 27/30\n",
            "3199/3199 [==============================] - 10s 3ms/step - loss: 0.3976 - val_loss: 0.4079\n",
            "Epoch 28/30\n",
            "3199/3199 [==============================] - 7s 2ms/step - loss: 0.3976 - val_loss: 0.4079\n",
            "Epoch 29/30\n",
            "3199/3199 [==============================] - 7s 2ms/step - loss: 0.3976 - val_loss: 0.4082\n",
            "Epoch 30/30\n",
            "3199/3199 [==============================] - 7s 2ms/step - loss: 0.3975 - val_loss: 0.4083\n"
          ]
        },
        {
          "output_type": "execute_result",
          "data": {
            "text/plain": [
              "<keras.callbacks.History at 0x7ff113d8ceb0>"
            ]
          },
          "metadata": {},
          "execution_count": 21
        }
      ]
    },
    {
      "cell_type": "code",
      "source": [
        "#Denoise Test data\n",
        "Xte_dn_array=DAE.predict(Xte)\n",
        "Xte_dn=pd.DataFrame(Xte_dn_array,columns=Xte.columns)\n",
        "\n",
        "Xte_dn.shape"
      ],
      "metadata": {
        "colab": {
          "base_uri": "https://localhost:8080/"
        },
        "id": "wNtWxk1_NvYb",
        "outputId": "a8fe597b-c386-4852-d466-4838a895dbae"
      },
      "execution_count": null,
      "outputs": [
        {
          "output_type": "stream",
          "name": "stdout",
          "text": [
            "1781/1781 [==============================] - 2s 1ms/step\n"
          ]
        },
        {
          "output_type": "execute_result",
          "data": {
            "text/plain": [
              "(56962, 29)"
            ]
          },
          "metadata": {},
          "execution_count": 28
        }
      ]
    },
    {
      "cell_type": "code",
      "source": [
        "Xte_dn"
      ],
      "metadata": {
        "colab": {
          "base_uri": "https://localhost:8080/",
          "height": 488
        },
        "id": "zSVyRiQhOYmB",
        "outputId": "dd979980-5362-42c4-bd9e-33569596104b"
      },
      "execution_count": null,
      "outputs": [
        {
          "output_type": "execute_result",
          "data": {
            "text/plain": [
              "             V1        V2        V3        V4        V5        V6        V7  \\\n",
              "0     -0.108920  0.670527  0.172037 -0.789806  0.615687 -0.446498  0.710861   \n",
              "1     -0.236332  0.637447  0.344071 -0.726492  0.771692 -0.508231  0.392442   \n",
              "2     -1.662916 -2.491858  0.282008  0.537929  2.152649 -1.181912 -1.142001   \n",
              "3     -2.401638  0.979769  0.698040  0.875765 -1.510318  1.303163  1.119303   \n",
              "4      1.507225  0.017236 -0.509297  0.080390 -0.013419 -0.056555 -0.358679   \n",
              "...         ...       ...       ...       ...       ...       ...       ...   \n",
              "56957 -1.058186  0.753358  0.748026 -2.510845 -0.078967 -0.492802  0.149988   \n",
              "56958  1.159160  0.153203  0.305477  0.271406  0.003806  0.043465 -0.148072   \n",
              "56959  0.975301 -2.661213 -2.028298  0.405780 -0.728437 -0.012415  0.274644   \n",
              "56960  2.045362 -0.016099 -1.514016  0.278184  0.394656 -0.599078 -0.277990   \n",
              "56961  2.182399 -0.716470 -0.785277 -0.653065 -0.206473 -0.319941 -0.640769   \n",
              "\n",
              "             V8        V9       V10  ...       V20       V21       V22  \\\n",
              "0     -0.143574 -0.424707 -0.754611  ...  0.176479 -0.236984 -0.043048   \n",
              "1     -0.098571 -0.185128 -0.488382  ...  0.104498 -0.338137  0.041557   \n",
              "2     -0.001382  0.196127  0.250791  ... -0.236669 -0.097367  0.082978   \n",
              "3     -0.671209 -0.061397  0.823564  ...  0.146560  0.413975 -0.066777   \n",
              "4     -0.208849  1.666485  0.537790  ... -0.012049 -0.433677  0.453625   \n",
              "...         ...       ...       ...  ...       ...       ...       ...   \n",
              "56957  0.393208 -0.135786 -0.728920  ...  0.124693 -0.400102  0.069504   \n",
              "56958  0.134783 -0.153203  0.046028  ... -0.060543  0.054911  0.007252   \n",
              "56959 -0.071267  0.446846 -0.642370  ...  0.251195  0.336293 -0.024962   \n",
              "56960  0.080639  0.041193 -0.656040  ...  0.050869  0.188103 -0.163856   \n",
              "56961  0.125478  0.248545 -0.547274  ... -0.048822  0.343124 -0.077739   \n",
              "\n",
              "            V23       V24       V25       V26       V27       V28    Amount  \n",
              "0     -0.002275 -0.100299  0.251947  0.003141  0.166670  0.093315 -0.211720  \n",
              "1     -0.069593 -0.071352  0.161270 -0.009995  0.107210  0.082037 -0.411769  \n",
              "2     -0.594239  0.013700 -0.272826 -0.031665 -0.030382 -0.172241 -0.194092  \n",
              "3      0.473532  0.013305  0.166760 -0.004339 -0.030043  0.117099  0.900374  \n",
              "4     -0.039063  0.027845 -0.430704 -0.053757 -0.223359  0.047821 -0.224674  \n",
              "...         ...       ...       ...       ...       ...       ...       ...  \n",
              "56957 -0.094559  0.019545  0.222063 -0.080368  0.098098  0.043019 -0.480210  \n",
              "56958 -0.019348  0.016907 -0.042355 -0.012582  0.033236 -0.000516 -0.261149  \n",
              "56959 -0.015360 -0.038820 -0.223358 -0.014882 -0.010017 -0.148253  1.579749  \n",
              "56960 -0.101881 -0.096742 -0.004950  0.008128  0.135736  0.015383 -0.158903  \n",
              "56961 -0.109255  0.017388 -0.153857 -0.046469  0.055963 -0.071757 -0.074287  \n",
              "\n",
              "[56962 rows x 29 columns]"
            ],
            "text/html": [
              "\n",
              "  <div id=\"df-553c83e2-7b6b-4d46-9683-1c543a17d1b8\">\n",
              "    <div class=\"colab-df-container\">\n",
              "      <div>\n",
              "<style scoped>\n",
              "    .dataframe tbody tr th:only-of-type {\n",
              "        vertical-align: middle;\n",
              "    }\n",
              "\n",
              "    .dataframe tbody tr th {\n",
              "        vertical-align: top;\n",
              "    }\n",
              "\n",
              "    .dataframe thead th {\n",
              "        text-align: right;\n",
              "    }\n",
              "</style>\n",
              "<table border=\"1\" class=\"dataframe\">\n",
              "  <thead>\n",
              "    <tr style=\"text-align: right;\">\n",
              "      <th></th>\n",
              "      <th>V1</th>\n",
              "      <th>V2</th>\n",
              "      <th>V3</th>\n",
              "      <th>V4</th>\n",
              "      <th>V5</th>\n",
              "      <th>V6</th>\n",
              "      <th>V7</th>\n",
              "      <th>V8</th>\n",
              "      <th>V9</th>\n",
              "      <th>V10</th>\n",
              "      <th>...</th>\n",
              "      <th>V20</th>\n",
              "      <th>V21</th>\n",
              "      <th>V22</th>\n",
              "      <th>V23</th>\n",
              "      <th>V24</th>\n",
              "      <th>V25</th>\n",
              "      <th>V26</th>\n",
              "      <th>V27</th>\n",
              "      <th>V28</th>\n",
              "      <th>Amount</th>\n",
              "    </tr>\n",
              "  </thead>\n",
              "  <tbody>\n",
              "    <tr>\n",
              "      <th>0</th>\n",
              "      <td>-0.108920</td>\n",
              "      <td>0.670527</td>\n",
              "      <td>0.172037</td>\n",
              "      <td>-0.789806</td>\n",
              "      <td>0.615687</td>\n",
              "      <td>-0.446498</td>\n",
              "      <td>0.710861</td>\n",
              "      <td>-0.143574</td>\n",
              "      <td>-0.424707</td>\n",
              "      <td>-0.754611</td>\n",
              "      <td>...</td>\n",
              "      <td>0.176479</td>\n",
              "      <td>-0.236984</td>\n",
              "      <td>-0.043048</td>\n",
              "      <td>-0.002275</td>\n",
              "      <td>-0.100299</td>\n",
              "      <td>0.251947</td>\n",
              "      <td>0.003141</td>\n",
              "      <td>0.166670</td>\n",
              "      <td>0.093315</td>\n",
              "      <td>-0.211720</td>\n",
              "    </tr>\n",
              "    <tr>\n",
              "      <th>1</th>\n",
              "      <td>-0.236332</td>\n",
              "      <td>0.637447</td>\n",
              "      <td>0.344071</td>\n",
              "      <td>-0.726492</td>\n",
              "      <td>0.771692</td>\n",
              "      <td>-0.508231</td>\n",
              "      <td>0.392442</td>\n",
              "      <td>-0.098571</td>\n",
              "      <td>-0.185128</td>\n",
              "      <td>-0.488382</td>\n",
              "      <td>...</td>\n",
              "      <td>0.104498</td>\n",
              "      <td>-0.338137</td>\n",
              "      <td>0.041557</td>\n",
              "      <td>-0.069593</td>\n",
              "      <td>-0.071352</td>\n",
              "      <td>0.161270</td>\n",
              "      <td>-0.009995</td>\n",
              "      <td>0.107210</td>\n",
              "      <td>0.082037</td>\n",
              "      <td>-0.411769</td>\n",
              "    </tr>\n",
              "    <tr>\n",
              "      <th>2</th>\n",
              "      <td>-1.662916</td>\n",
              "      <td>-2.491858</td>\n",
              "      <td>0.282008</td>\n",
              "      <td>0.537929</td>\n",
              "      <td>2.152649</td>\n",
              "      <td>-1.181912</td>\n",
              "      <td>-1.142001</td>\n",
              "      <td>-0.001382</td>\n",
              "      <td>0.196127</td>\n",
              "      <td>0.250791</td>\n",
              "      <td>...</td>\n",
              "      <td>-0.236669</td>\n",
              "      <td>-0.097367</td>\n",
              "      <td>0.082978</td>\n",
              "      <td>-0.594239</td>\n",
              "      <td>0.013700</td>\n",
              "      <td>-0.272826</td>\n",
              "      <td>-0.031665</td>\n",
              "      <td>-0.030382</td>\n",
              "      <td>-0.172241</td>\n",
              "      <td>-0.194092</td>\n",
              "    </tr>\n",
              "    <tr>\n",
              "      <th>3</th>\n",
              "      <td>-2.401638</td>\n",
              "      <td>0.979769</td>\n",
              "      <td>0.698040</td>\n",
              "      <td>0.875765</td>\n",
              "      <td>-1.510318</td>\n",
              "      <td>1.303163</td>\n",
              "      <td>1.119303</td>\n",
              "      <td>-0.671209</td>\n",
              "      <td>-0.061397</td>\n",
              "      <td>0.823564</td>\n",
              "      <td>...</td>\n",
              "      <td>0.146560</td>\n",
              "      <td>0.413975</td>\n",
              "      <td>-0.066777</td>\n",
              "      <td>0.473532</td>\n",
              "      <td>0.013305</td>\n",
              "      <td>0.166760</td>\n",
              "      <td>-0.004339</td>\n",
              "      <td>-0.030043</td>\n",
              "      <td>0.117099</td>\n",
              "      <td>0.900374</td>\n",
              "    </tr>\n",
              "    <tr>\n",
              "      <th>4</th>\n",
              "      <td>1.507225</td>\n",
              "      <td>0.017236</td>\n",
              "      <td>-0.509297</td>\n",
              "      <td>0.080390</td>\n",
              "      <td>-0.013419</td>\n",
              "      <td>-0.056555</td>\n",
              "      <td>-0.358679</td>\n",
              "      <td>-0.208849</td>\n",
              "      <td>1.666485</td>\n",
              "      <td>0.537790</td>\n",
              "      <td>...</td>\n",
              "      <td>-0.012049</td>\n",
              "      <td>-0.433677</td>\n",
              "      <td>0.453625</td>\n",
              "      <td>-0.039063</td>\n",
              "      <td>0.027845</td>\n",
              "      <td>-0.430704</td>\n",
              "      <td>-0.053757</td>\n",
              "      <td>-0.223359</td>\n",
              "      <td>0.047821</td>\n",
              "      <td>-0.224674</td>\n",
              "    </tr>\n",
              "    <tr>\n",
              "      <th>...</th>\n",
              "      <td>...</td>\n",
              "      <td>...</td>\n",
              "      <td>...</td>\n",
              "      <td>...</td>\n",
              "      <td>...</td>\n",
              "      <td>...</td>\n",
              "      <td>...</td>\n",
              "      <td>...</td>\n",
              "      <td>...</td>\n",
              "      <td>...</td>\n",
              "      <td>...</td>\n",
              "      <td>...</td>\n",
              "      <td>...</td>\n",
              "      <td>...</td>\n",
              "      <td>...</td>\n",
              "      <td>...</td>\n",
              "      <td>...</td>\n",
              "      <td>...</td>\n",
              "      <td>...</td>\n",
              "      <td>...</td>\n",
              "      <td>...</td>\n",
              "    </tr>\n",
              "    <tr>\n",
              "      <th>56957</th>\n",
              "      <td>-1.058186</td>\n",
              "      <td>0.753358</td>\n",
              "      <td>0.748026</td>\n",
              "      <td>-2.510845</td>\n",
              "      <td>-0.078967</td>\n",
              "      <td>-0.492802</td>\n",
              "      <td>0.149988</td>\n",
              "      <td>0.393208</td>\n",
              "      <td>-0.135786</td>\n",
              "      <td>-0.728920</td>\n",
              "      <td>...</td>\n",
              "      <td>0.124693</td>\n",
              "      <td>-0.400102</td>\n",
              "      <td>0.069504</td>\n",
              "      <td>-0.094559</td>\n",
              "      <td>0.019545</td>\n",
              "      <td>0.222063</td>\n",
              "      <td>-0.080368</td>\n",
              "      <td>0.098098</td>\n",
              "      <td>0.043019</td>\n",
              "      <td>-0.480210</td>\n",
              "    </tr>\n",
              "    <tr>\n",
              "      <th>56958</th>\n",
              "      <td>1.159160</td>\n",
              "      <td>0.153203</td>\n",
              "      <td>0.305477</td>\n",
              "      <td>0.271406</td>\n",
              "      <td>0.003806</td>\n",
              "      <td>0.043465</td>\n",
              "      <td>-0.148072</td>\n",
              "      <td>0.134783</td>\n",
              "      <td>-0.153203</td>\n",
              "      <td>0.046028</td>\n",
              "      <td>...</td>\n",
              "      <td>-0.060543</td>\n",
              "      <td>0.054911</td>\n",
              "      <td>0.007252</td>\n",
              "      <td>-0.019348</td>\n",
              "      <td>0.016907</td>\n",
              "      <td>-0.042355</td>\n",
              "      <td>-0.012582</td>\n",
              "      <td>0.033236</td>\n",
              "      <td>-0.000516</td>\n",
              "      <td>-0.261149</td>\n",
              "    </tr>\n",
              "    <tr>\n",
              "      <th>56959</th>\n",
              "      <td>0.975301</td>\n",
              "      <td>-2.661213</td>\n",
              "      <td>-2.028298</td>\n",
              "      <td>0.405780</td>\n",
              "      <td>-0.728437</td>\n",
              "      <td>-0.012415</td>\n",
              "      <td>0.274644</td>\n",
              "      <td>-0.071267</td>\n",
              "      <td>0.446846</td>\n",
              "      <td>-0.642370</td>\n",
              "      <td>...</td>\n",
              "      <td>0.251195</td>\n",
              "      <td>0.336293</td>\n",
              "      <td>-0.024962</td>\n",
              "      <td>-0.015360</td>\n",
              "      <td>-0.038820</td>\n",
              "      <td>-0.223358</td>\n",
              "      <td>-0.014882</td>\n",
              "      <td>-0.010017</td>\n",
              "      <td>-0.148253</td>\n",
              "      <td>1.579749</td>\n",
              "    </tr>\n",
              "    <tr>\n",
              "      <th>56960</th>\n",
              "      <td>2.045362</td>\n",
              "      <td>-0.016099</td>\n",
              "      <td>-1.514016</td>\n",
              "      <td>0.278184</td>\n",
              "      <td>0.394656</td>\n",
              "      <td>-0.599078</td>\n",
              "      <td>-0.277990</td>\n",
              "      <td>0.080639</td>\n",
              "      <td>0.041193</td>\n",
              "      <td>-0.656040</td>\n",
              "      <td>...</td>\n",
              "      <td>0.050869</td>\n",
              "      <td>0.188103</td>\n",
              "      <td>-0.163856</td>\n",
              "      <td>-0.101881</td>\n",
              "      <td>-0.096742</td>\n",
              "      <td>-0.004950</td>\n",
              "      <td>0.008128</td>\n",
              "      <td>0.135736</td>\n",
              "      <td>0.015383</td>\n",
              "      <td>-0.158903</td>\n",
              "    </tr>\n",
              "    <tr>\n",
              "      <th>56961</th>\n",
              "      <td>2.182399</td>\n",
              "      <td>-0.716470</td>\n",
              "      <td>-0.785277</td>\n",
              "      <td>-0.653065</td>\n",
              "      <td>-0.206473</td>\n",
              "      <td>-0.319941</td>\n",
              "      <td>-0.640769</td>\n",
              "      <td>0.125478</td>\n",
              "      <td>0.248545</td>\n",
              "      <td>-0.547274</td>\n",
              "      <td>...</td>\n",
              "      <td>-0.048822</td>\n",
              "      <td>0.343124</td>\n",
              "      <td>-0.077739</td>\n",
              "      <td>-0.109255</td>\n",
              "      <td>0.017388</td>\n",
              "      <td>-0.153857</td>\n",
              "      <td>-0.046469</td>\n",
              "      <td>0.055963</td>\n",
              "      <td>-0.071757</td>\n",
              "      <td>-0.074287</td>\n",
              "    </tr>\n",
              "  </tbody>\n",
              "</table>\n",
              "<p>56962 rows × 29 columns</p>\n",
              "</div>\n",
              "      <button class=\"colab-df-convert\" onclick=\"convertToInteractive('df-553c83e2-7b6b-4d46-9683-1c543a17d1b8')\"\n",
              "              title=\"Convert this dataframe to an interactive table.\"\n",
              "              style=\"display:none;\">\n",
              "        \n",
              "  <svg xmlns=\"http://www.w3.org/2000/svg\" height=\"24px\"viewBox=\"0 0 24 24\"\n",
              "       width=\"24px\">\n",
              "    <path d=\"M0 0h24v24H0V0z\" fill=\"none\"/>\n",
              "    <path d=\"M18.56 5.44l.94 2.06.94-2.06 2.06-.94-2.06-.94-.94-2.06-.94 2.06-2.06.94zm-11 1L8.5 8.5l.94-2.06 2.06-.94-2.06-.94L8.5 2.5l-.94 2.06-2.06.94zm10 10l.94 2.06.94-2.06 2.06-.94-2.06-.94-.94-2.06-.94 2.06-2.06.94z\"/><path d=\"M17.41 7.96l-1.37-1.37c-.4-.4-.92-.59-1.43-.59-.52 0-1.04.2-1.43.59L10.3 9.45l-7.72 7.72c-.78.78-.78 2.05 0 2.83L4 21.41c.39.39.9.59 1.41.59.51 0 1.02-.2 1.41-.59l7.78-7.78 2.81-2.81c.8-.78.8-2.07 0-2.86zM5.41 20L4 18.59l7.72-7.72 1.47 1.35L5.41 20z\"/>\n",
              "  </svg>\n",
              "      </button>\n",
              "      \n",
              "  <style>\n",
              "    .colab-df-container {\n",
              "      display:flex;\n",
              "      flex-wrap:wrap;\n",
              "      gap: 12px;\n",
              "    }\n",
              "\n",
              "    .colab-df-convert {\n",
              "      background-color: #E8F0FE;\n",
              "      border: none;\n",
              "      border-radius: 50%;\n",
              "      cursor: pointer;\n",
              "      display: none;\n",
              "      fill: #1967D2;\n",
              "      height: 32px;\n",
              "      padding: 0 0 0 0;\n",
              "      width: 32px;\n",
              "    }\n",
              "\n",
              "    .colab-df-convert:hover {\n",
              "      background-color: #E2EBFA;\n",
              "      box-shadow: 0px 1px 2px rgba(60, 64, 67, 0.3), 0px 1px 3px 1px rgba(60, 64, 67, 0.15);\n",
              "      fill: #174EA6;\n",
              "    }\n",
              "\n",
              "    [theme=dark] .colab-df-convert {\n",
              "      background-color: #3B4455;\n",
              "      fill: #D2E3FC;\n",
              "    }\n",
              "\n",
              "    [theme=dark] .colab-df-convert:hover {\n",
              "      background-color: #434B5C;\n",
              "      box-shadow: 0px 1px 3px 1px rgba(0, 0, 0, 0.15);\n",
              "      filter: drop-shadow(0px 1px 2px rgba(0, 0, 0, 0.3));\n",
              "      fill: #FFFFFF;\n",
              "    }\n",
              "  </style>\n",
              "\n",
              "      <script>\n",
              "        const buttonEl =\n",
              "          document.querySelector('#df-553c83e2-7b6b-4d46-9683-1c543a17d1b8 button.colab-df-convert');\n",
              "        buttonEl.style.display =\n",
              "          google.colab.kernel.accessAllowed ? 'block' : 'none';\n",
              "\n",
              "        async function convertToInteractive(key) {\n",
              "          const element = document.querySelector('#df-553c83e2-7b6b-4d46-9683-1c543a17d1b8');\n",
              "          const dataTable =\n",
              "            await google.colab.kernel.invokeFunction('convertToInteractive',\n",
              "                                                     [key], {});\n",
              "          if (!dataTable) return;\n",
              "\n",
              "          const docLinkHtml = 'Like what you see? Visit the ' +\n",
              "            '<a target=\"_blank\" href=https://colab.research.google.com/notebooks/data_table.ipynb>data table notebook</a>'\n",
              "            + ' to learn more about interactive tables.';\n",
              "          element.innerHTML = '';\n",
              "          dataTable['output_type'] = 'display_data';\n",
              "          await google.colab.output.renderOutput(dataTable, element);\n",
              "          const docLink = document.createElement('div');\n",
              "          docLink.innerHTML = docLinkHtml;\n",
              "          element.appendChild(docLink);\n",
              "        }\n",
              "      </script>\n",
              "    </div>\n",
              "  </div>\n",
              "  "
            ]
          },
          "metadata": {},
          "execution_count": 26
        }
      ]
    },
    {
      "cell_type": "code",
      "source": [
        "#CLassifier\n",
        "#Autoencoder model\n",
        "input_layer = Input(shape=(29, ))\n",
        "FC1 = Dense(22)(input_layer)\n",
        "FC2 = Dense(15)(FC1)\n",
        "FC3 = Dense(10)(FC2)\n",
        "FC4 = Dense(5)(FC3)\n",
        "FC5=Dense(2)(FC4)\n",
        "out_layer = Activation('softmax')(FC5)\n",
        "Classifier = Model(input_layer,out_layer)\n",
        "Classifier.compile(optimizer='adam',loss='sparse_categorical_crossentropy')\n",
        "Classifier.summary()"
      ],
      "metadata": {
        "colab": {
          "base_uri": "https://localhost:8080/"
        },
        "id": "MRrDhRxSCgOv",
        "outputId": "296921b7-264d-4c22-92ab-3305d305f6c4"
      },
      "execution_count": null,
      "outputs": [
        {
          "output_type": "stream",
          "name": "stdout",
          "text": [
            "Model: \"model_1\"\n",
            "_________________________________________________________________\n",
            " Layer (type)                Output Shape              Param #   \n",
            "=================================================================\n",
            " input_2 (InputLayer)        [(None, 29)]              0         \n",
            "                                                                 \n",
            " dense_6 (Dense)             (None, 22)                660       \n",
            "                                                                 \n",
            " dense_7 (Dense)             (None, 15)                345       \n",
            "                                                                 \n",
            " dense_8 (Dense)             (None, 10)                160       \n",
            "                                                                 \n",
            " dense_9 (Dense)             (None, 5)                 55        \n",
            "                                                                 \n",
            " dense_10 (Dense)            (None, 2)                 12        \n",
            "                                                                 \n",
            " activation (Activation)     (None, 2)                 0         \n",
            "                                                                 \n",
            "=================================================================\n",
            "Total params: 1,232\n",
            "Trainable params: 1,232\n",
            "Non-trainable params: 0\n",
            "_________________________________________________________________\n"
          ]
        }
      ]
    },
    {
      "cell_type": "markdown",
      "source": [
        "**Model without oversampling and denoising**\n",
        "\n",
        "\n"
      ],
      "metadata": {
        "id": "61g8bsSWPrFS"
      }
    },
    {
      "cell_type": "code",
      "source": [
        "\n",
        "xtr, xval, ytr, yval = train_test_split(Xtr , Ytr, test_size=0.1, random_state=0)\n",
        "Classifier.fit(xtr, ytr, epochs = 30, batch_size=128, validation_data=(xval,yval))"
      ],
      "metadata": {
        "id": "aH2U6wr1E9RH",
        "colab": {
          "base_uri": "https://localhost:8080/"
        },
        "outputId": "0ced908c-c315-45d2-9d39-6da685d4b46d"
      },
      "execution_count": null,
      "outputs": [
        {
          "output_type": "stream",
          "name": "stdout",
          "text": [
            "Epoch 1/30\n",
            "1603/1603 [==============================] - 4s 2ms/step - loss: 0.0387 - val_loss: 0.0042\n",
            "Epoch 2/30\n",
            "1603/1603 [==============================] - 4s 3ms/step - loss: 0.0066 - val_loss: 0.0042\n",
            "Epoch 3/30\n",
            "1603/1603 [==============================] - 4s 2ms/step - loss: 0.0058 - val_loss: 0.0039\n",
            "Epoch 4/30\n",
            "1603/1603 [==============================] - 3s 2ms/step - loss: 0.0050 - val_loss: 0.0039\n",
            "Epoch 5/30\n",
            "1603/1603 [==============================] - 4s 3ms/step - loss: 0.0050 - val_loss: 0.0030\n",
            "Epoch 6/30\n",
            "1603/1603 [==============================] - 3s 2ms/step - loss: 0.0049 - val_loss: 0.0056\n",
            "Epoch 7/30\n",
            "1603/1603 [==============================] - 3s 2ms/step - loss: 0.0048 - val_loss: 0.0029\n",
            "Epoch 8/30\n",
            "1603/1603 [==============================] - 3s 2ms/step - loss: 0.0046 - val_loss: 0.0034\n",
            "Epoch 9/30\n",
            "1603/1603 [==============================] - 3s 2ms/step - loss: 0.0047 - val_loss: 0.0031\n",
            "Epoch 10/30\n",
            "1603/1603 [==============================] - 3s 2ms/step - loss: 0.0046 - val_loss: 0.0030\n",
            "Epoch 11/30\n",
            "1603/1603 [==============================] - 3s 2ms/step - loss: 0.0045 - val_loss: 0.0029\n",
            "Epoch 12/30\n",
            "1603/1603 [==============================] - 6s 4ms/step - loss: 0.0046 - val_loss: 0.0029\n",
            "Epoch 13/30\n",
            "1603/1603 [==============================] - 4s 2ms/step - loss: 0.0045 - val_loss: 0.0028\n",
            "Epoch 14/30\n",
            "1603/1603 [==============================] - 4s 2ms/step - loss: 0.0046 - val_loss: 0.0036\n",
            "Epoch 15/30\n",
            "1603/1603 [==============================] - 4s 2ms/step - loss: 0.0044 - val_loss: 0.0029\n",
            "Epoch 16/30\n",
            "1603/1603 [==============================] - 4s 2ms/step - loss: 0.0044 - val_loss: 0.0029\n",
            "Epoch 17/30\n",
            "1603/1603 [==============================] - 4s 2ms/step - loss: 0.0044 - val_loss: 0.0029\n",
            "Epoch 18/30\n",
            "1603/1603 [==============================] - 3s 2ms/step - loss: 0.0044 - val_loss: 0.0037\n",
            "Epoch 19/30\n",
            "1603/1603 [==============================] - 4s 2ms/step - loss: 0.0044 - val_loss: 0.0029\n",
            "Epoch 20/30\n",
            "1603/1603 [==============================] - 3s 2ms/step - loss: 0.0044 - val_loss: 0.0029\n",
            "Epoch 21/30\n",
            "1603/1603 [==============================] - 3s 2ms/step - loss: 0.0044 - val_loss: 0.0029\n",
            "Epoch 22/30\n",
            "1603/1603 [==============================] - 3s 2ms/step - loss: 0.0043 - val_loss: 0.0029\n",
            "Epoch 23/30\n",
            "1603/1603 [==============================] - 3s 2ms/step - loss: 0.0044 - val_loss: 0.0029\n",
            "Epoch 24/30\n",
            "1603/1603 [==============================] - 3s 2ms/step - loss: 0.0044 - val_loss: 0.0034\n",
            "Epoch 25/30\n",
            "1603/1603 [==============================] - 3s 2ms/step - loss: 0.0044 - val_loss: 0.0029\n",
            "Epoch 26/30\n",
            "1603/1603 [==============================] - 3s 2ms/step - loss: 0.0044 - val_loss: 0.0035\n",
            "Epoch 27/30\n",
            "1603/1603 [==============================] - 4s 2ms/step - loss: 0.0043 - val_loss: 0.0031\n",
            "Epoch 28/30\n",
            "1603/1603 [==============================] - 3s 2ms/step - loss: 0.0043 - val_loss: 0.0029\n",
            "Epoch 29/30\n",
            "1603/1603 [==============================] - 3s 2ms/step - loss: 0.0044 - val_loss: 0.0038\n",
            "Epoch 30/30\n",
            "1603/1603 [==============================] - 3s 2ms/step - loss: 0.0043 - val_loss: 0.0030\n"
          ]
        },
        {
          "output_type": "execute_result",
          "data": {
            "text/plain": [
              "<keras.callbacks.History at 0x7ff1100364f0>"
            ]
          },
          "metadata": {},
          "execution_count": 31
        }
      ]
    },
    {
      "cell_type": "code",
      "source": [
        "Y_pred=Classifier.predict(Xte)\n",
        "yhat=Y_pred[:,1]\n"
      ],
      "metadata": {
        "colab": {
          "base_uri": "https://localhost:8080/"
        },
        "id": "uDQHIvD2P6T5",
        "outputId": "bac5a16b-32f6-4371-866b-0d750a458945"
      },
      "execution_count": null,
      "outputs": [
        {
          "output_type": "stream",
          "name": "stdout",
          "text": [
            "1781/1781 [==============================] - 2s 1ms/step\n"
          ]
        },
        {
          "output_type": "execute_result",
          "data": {
            "text/plain": [
              "array([[9.9934250e-01, 6.5747532e-04],\n",
              "       [9.9957925e-01, 4.2080242e-04],\n",
              "       [9.9954110e-01, 4.5883350e-04],\n",
              "       ...,\n",
              "       [9.9972248e-01, 2.7759658e-04],\n",
              "       [9.9857807e-01, 1.4219121e-03],\n",
              "       [9.9992597e-01, 7.4070871e-05]], dtype=float32)"
            ]
          },
          "metadata": {},
          "execution_count": 32
        }
      ]
    },
    {
      "cell_type": "code",
      "source": [
        "from sklearn.metrics import precision_recall_curve,accuracy_score\n",
        "yhat=Y_pred[:,1]\n",
        "precision, recall, thresholds = precision_recall_curve(Yte, yhat)\n",
        "plt.plot(thresholds, recall[:-1], marker='.', label='recall')\n",
        "#ascores = [accuracy_score(Yte, (yhat >= t).astype('int')) for t in thresholds]\n",
        "plt.plot(thresholds, ascores, marker='.', label='acc')\n",
        "plt.xlabel('Thresholds')\n",
        "plt.ylabel('Recall & Accuracy')\n",
        "plt.legend(loc=\"lower center\")\n",
        "plt.show()"
      ],
      "metadata": {
        "colab": {
          "base_uri": "https://localhost:8080/",
          "height": 279
        },
        "id": "TIwSl_8VQnws",
        "outputId": "70e86fab-2a60-4698-c8c0-4c62b0008eda"
      },
      "execution_count": null,
      "outputs": [
        {
          "output_type": "display_data",
          "data": {
            "text/plain": [
              "<Figure size 432x288 with 1 Axes>"
            ],
            "image/png": "[encoded data removed]"
          },
          "metadata": {
            "needs_background": "light"
          }
        }
      ]
    },
    {
      "cell_type": "code",
      "source": [
        "from sklearn.metrics import f1_score, precision_score, accuracy_score,recall_score\n",
        "\n",
        "yhat=Y_pred[:,1]\n",
        "\n",
        "def to_labels(probs, threshold):\n",
        " return (probs >= threshold).astype('int')\n",
        "\n",
        "thresholds = np.concatenate((np.arange(0, 1, 0.01), [1-10e-6,1]))\n",
        "\n",
        "rscores = [recall_score(Yte, to_labels(yhat, t)) for t in thresholds]\n",
        "ascores = [accuracy_score(Yte, to_labels(yhat, t)) for t in thresholds]\n",
        "plt.plot(thresholds,rscores , marker='.', label='recall')\n",
        "plt.plot(thresholds, ascores, marker='.', label='acc')\n",
        "\n",
        "# axis labels\n",
        "plt.xlabel('Thresholds')\n",
        "plt.ylabel('Recall & Accuracy')\n",
        "plt.legend()\n",
        "# show the plot\n",
        "plt.show()"
      ],
      "metadata": {
        "colab": {
          "base_uri": "https://localhost:8080/",
          "height": 279
        },
        "id": "Rp38Td0UQztl",
        "outputId": "94f400c1-64ef-487e-88df-88bcd84eb73a"
      },
      "execution_count": null,
      "outputs": [
        {
          "output_type": "display_data",
          "data": {
            "text/plain": [
              "<Figure size 432x288 with 1 Axes>"
            ],
            "image/png": "[encoded data removed]"
          },
          "metadata": {
            "needs_background": "light"
          }
        }
      ]
    },
    {
      "cell_type": "markdown",
      "source": [
        "**Model with oversampling and denoising**\n"
      ],
      "metadata": {
        "id": "gArHdXk3YBTl"
      }
    },
    {
      "cell_type": "code",
      "source": [
        "\n",
        "xtr, xval, ytr, yval = train_test_split(Xtr_os , Ytr_os, test_size=0.1, random_state=0)\n",
        "Classifier.fit(xtr, ytr, epochs = 30, batch_size=128, validation_data=(xval,yval))"
      ],
      "metadata": {
        "colab": {
          "base_uri": "https://localhost:8080/"
        },
        "id": "H_QPFDTDc_SW",
        "outputId": "e0c53662-a0e3-4046-94b8-b0fadb208af7"
      },
      "execution_count": null,
      "outputs": [
        {
          "output_type": "stream",
          "name": "stdout",
          "text": [
            "Epoch 1/30\n",
            "3199/3199 [==============================] - 7s 2ms/step - loss: 0.1430 - val_loss: 0.1356\n",
            "Epoch 2/30\n",
            "3199/3199 [==============================] - 7s 2ms/step - loss: 0.1403 - val_loss: 0.1343\n",
            "Epoch 3/30\n",
            "3199/3199 [==============================] - 7s 2ms/step - loss: 0.1402 - val_loss: 0.1344\n",
            "Epoch 4/30\n",
            "3199/3199 [==============================] - 7s 2ms/step - loss: 0.1401 - val_loss: 0.1347\n",
            "Epoch 5/30\n",
            "3199/3199 [==============================] - 7s 2ms/step - loss: 0.1400 - val_loss: 0.1350\n",
            "Epoch 6/30\n",
            "3199/3199 [==============================] - 7s 2ms/step - loss: 0.1401 - val_loss: 0.1341\n",
            "Epoch 7/30\n",
            "3199/3199 [==============================] - 8s 3ms/step - loss: 0.1399 - val_loss: 0.1339\n",
            "Epoch 8/30\n",
            "3199/3199 [==============================] - 7s 2ms/step - loss: 0.1398 - val_loss: 0.1340\n",
            "Epoch 9/30\n",
            "3199/3199 [==============================] - 8s 3ms/step - loss: 0.1399 - val_loss: 0.1338\n",
            "Epoch 10/30\n",
            "3199/3199 [==============================] - 8s 2ms/step - loss: 0.1399 - val_loss: 0.1350\n",
            "Epoch 11/30\n",
            "3199/3199 [==============================] - 7s 2ms/step - loss: 0.1398 - val_loss: 0.1343\n",
            "Epoch 12/30\n",
            "3199/3199 [==============================] - 7s 2ms/step - loss: 0.1398 - val_loss: 0.1337\n",
            "Epoch 13/30\n",
            "3199/3199 [==============================] - 10s 3ms/step - loss: 0.1398 - val_loss: 0.1344\n",
            "Epoch 14/30\n",
            "3199/3199 [==============================] - 7s 2ms/step - loss: 0.1397 - val_loss: 0.1340\n",
            "Epoch 15/30\n",
            "3199/3199 [==============================] - 7s 2ms/step - loss: 0.1398 - val_loss: 0.1336\n",
            "Epoch 16/30\n",
            "3199/3199 [==============================] - 8s 3ms/step - loss: 0.1397 - val_loss: 0.1339\n",
            "Epoch 17/30\n",
            "3199/3199 [==============================] - 13s 4ms/step - loss: 0.1396 - val_loss: 0.1346\n",
            "Epoch 18/30\n",
            "3199/3199 [==============================] - 8s 2ms/step - loss: 0.1397 - val_loss: 0.1338\n",
            "Epoch 19/30\n",
            "3199/3199 [==============================] - 7s 2ms/step - loss: 0.1397 - val_loss: 0.1337\n",
            "Epoch 20/30\n",
            "3199/3199 [==============================] - 8s 2ms/step - loss: 0.1396 - val_loss: 0.1340\n",
            "Epoch 21/30\n",
            "3199/3199 [==============================] - 10s 3ms/step - loss: 0.1396 - val_loss: 0.1338\n",
            "Epoch 22/30\n",
            "3199/3199 [==============================] - 7s 2ms/step - loss: 0.1396 - val_loss: 0.1345\n",
            "Epoch 23/30\n",
            "3199/3199 [==============================] - 7s 2ms/step - loss: 0.1397 - val_loss: 0.1346\n",
            "Epoch 24/30\n",
            "3199/3199 [==============================] - 14s 4ms/step - loss: 0.1397 - val_loss: 0.1338\n",
            "Epoch 25/30\n",
            "3199/3199 [==============================] - 7s 2ms/step - loss: 0.1395 - val_loss: 0.1339\n",
            "Epoch 26/30\n",
            "3199/3199 [==============================] - 7s 2ms/step - loss: 0.1396 - val_loss: 0.1338\n",
            "Epoch 27/30\n",
            "3199/3199 [==============================] - 7s 2ms/step - loss: 0.1396 - val_loss: 0.1343\n",
            "Epoch 28/30\n",
            "3199/3199 [==============================] - 7s 2ms/step - loss: 0.1396 - val_loss: 0.1343\n",
            "Epoch 29/30\n",
            "3199/3199 [==============================] - 7s 2ms/step - loss: 0.1396 - val_loss: 0.1347\n",
            "Epoch 30/30\n",
            "3199/3199 [==============================] - 8s 3ms/step - loss: 0.1396 - val_loss: 0.1343\n"
          ]
        },
        {
          "output_type": "execute_result",
          "data": {
            "text/plain": [
              "<keras.callbacks.History at 0x7ff113da6310>"
            ]
          },
          "metadata": {},
          "execution_count": 70
        }
      ]
    },
    {
      "cell_type": "code",
      "source": [
        "Y_pred1=Classifier.predict(Xte_dn)\n",
        "yhat1=Y_pred1[:,1]"
      ],
      "metadata": {
        "colab": {
          "base_uri": "https://localhost:8080/"
        },
        "id": "9RqmhdRGdRzR",
        "outputId": "ed88d2fb-18fa-488b-e1c5-205f24674cea"
      },
      "execution_count": null,
      "outputs": [
        {
          "output_type": "stream",
          "name": "stdout",
          "text": [
            "1781/1781 [==============================] - 2s 1ms/step\n"
          ]
        }
      ]
    },
    {
      "cell_type": "code",
      "source": [
        "from sklearn.metrics import f1_score, precision_score, accuracy_score,recall_score\n",
        "\n",
        "yhat1=Y_pred1[:,1]\n",
        "\n",
        "def to_labels(probs, threshold):\n",
        " return (probs >= threshold).astype('int')\n",
        "\n",
        "thresholds = np.concatenate((np.arange(0, 1, 0.01), [1-10e-6,1]))\n",
        "\n",
        "rscores = [recall_score(Yte, to_labels(yhat1, t)) for t in thresholds]\n",
        "ascores = [accuracy_score(Yte, to_labels(yhat1, t)) for t in thresholds]\n",
        "plt.plot(thresholds,rscores , marker='.', label='recall')\n",
        "plt.plot(thresholds, ascores, marker='.', label='acc')\n",
        "\n",
        "# axis labels\n",
        "plt.xlabel('Thresholds')\n",
        "plt.ylabel('Recall & Accuracy')\n",
        "plt.legend()\n",
        "# show the plot\n",
        "plt.show()"
      ],
      "metadata": {
        "colab": {
          "base_uri": "https://localhost:8080/",
          "height": 279
        },
        "id": "Vsl-k6B7dyZn",
        "outputId": "204a83ab-feff-41fe-d0d7-dc7eabf86ae2"
      },
      "execution_count": null,
      "outputs": [
        {
          "output_type": "display_data",
          "data": {
            "text/plain": [
              "<Figure size 432x288 with 1 Axes>"
            ],
            "image/png": "[encoded data removed]"
          },
          "metadata": {
            "needs_background": "light"
          }
        }
      ]
    },
    {
      "cell_type": "code",
      "source": [
        "\n",
        "print(\"----------------------Model Metrics----------------------\")\n",
        "print(\"Precision: \",precision_score(Yte, to_labels(yhat1, 0.5)))\n",
        "print(\"Accuracy: \",accuracy_score(Yte, to_labels(yhat1, 0.5)))\n",
        "print(\"F1: \",f1_score(Yte, to_labels(yhat1, 0.5)))\n",
        "print(\"Recall: \",recall_score(Yte, to_labels(yhat1, 0.5)))"
      ],
      "metadata": {
        "colab": {
          "base_uri": "https://localhost:8080/"
        },
        "id": "qtjk2kU8eJGV",
        "outputId": "180b35cf-1654-49cf-eccd-9e9e63a304ca"
      },
      "execution_count": null,
      "outputs": [
        {
          "output_type": "stream",
          "name": "stdout",
          "text": [
            "----------------------Model Metrics----------------------\n",
            "Precision:  0.0702416918429003\n",
            "Accuracy:  0.9782486569994031\n",
            "F1:  0.13052631578947368\n",
            "Recall:  0.9207920792079208\n"
          ]
        }
      ]
    },
    {
      "cell_type": "code",
      "source": [
        "from sklearn.metrics import ConfusionMatrixDisplay\n",
        "ConfusionMatrixDisplay.from_predictions(Yte, to_labels(yhat1, 0.5),display_labels=[\"Normal\", \"Fraud\"])"
      ],
      "metadata": {
        "colab": {
          "base_uri": "https://localhost:8080/",
          "height": 296
        },
        "id": "uTd99QUafGje",
        "outputId": "331d6a41-d88b-475a-9e2b-6cc858cc3074"
      },
      "execution_count": null,
      "outputs": [
        {
          "output_type": "execute_result",
          "data": {
            "text/plain": [
              "<sklearn.metrics._plot.confusion_matrix.ConfusionMatrixDisplay at 0x7ff1770ddaf0>"
            ]
          },
          "metadata": {},
          "execution_count": 77
        },
        {
          "output_type": "display_data",
          "data": {
            "text/plain": [
              "<Figure size 432x288 with 2 Axes>"
            ],
            "image/png": "[encoded data removed]"
          },
          "metadata": {
            "needs_background": "light"
          }
        }
      ]
    },
    {
      "cell_type": "code",
      "source": [
        "from sklearn.metrics import ConfusionMatrixDisplay\n",
        "ConfusionMatrixDisplay.from_predictions(Yte, to_labels(yhat, 0.5),display_labels=[\"Normal\", \"Fraud\"])"
      ],
      "metadata": {
        "colab": {
          "base_uri": "https://localhost:8080/",
          "height": 296
        },
        "id": "FeyPSggKfwuE",
        "outputId": "31c03ecf-1661-4d6d-e6ef-89ec74e3fb96"
      },
      "execution_count": null,
      "outputs": [
        {
          "output_type": "execute_result",
          "data": {
            "text/plain": [
              "<sklearn.metrics._plot.confusion_matrix.ConfusionMatrixDisplay at 0x7ff115ef3ee0>"
            ]
          },
          "metadata": {},
          "execution_count": 78
        },
        {
          "output_type": "display_data",
          "data": {
            "text/plain": [
              "<Figure size 432x288 with 2 Axes>"
            ],
            "image/png": "[encoded data removed]"
          },
          "metadata": {
            "needs_background": "light"
          }
        }
      ]
    },
    {
      "cell_type": "code",
      "source": [],
      "metadata": {
        "id": "zWbkF5VsgN6M"
      },
      "execution_count": null,
      "outputs": []
    }
  ]
}